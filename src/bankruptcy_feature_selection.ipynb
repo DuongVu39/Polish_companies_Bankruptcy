{
 "cells": [
  {
   "cell_type": "markdown",
   "metadata": {},
   "source": [
    "# A mini Machine Learning Project exploring feature and model selection"
   ]
  },
  {
   "cell_type": "markdown",
   "metadata": {},
   "source": [
    "This code will:    \n",
    "- downloads the data    \n",
    "- performs necessary data cleaning and wrangling\n",
    "- performs some EDA (creates at least one table and one visualization)\n",
    "- performs feature and model selection (you should create at least one table and one visualization to present these results)"
   ]
  },
  {
   "cell_type": "markdown",
   "metadata": {},
   "source": [
    "## 1. Preprocessing:\n",
    "\n",
    "- The data can be found from this [link](http://archive.ics.uci.edu/ml/datasets/Polish+companies+bankruptcy+data#) of **UCI**\n",
    "- After download and unzip the file, choose the 3year.arff file as the data file only. \n",
    "- This data contains financial rates from 3rd year of the forecasting period and corresponding class label that indicates bankruptcy status after 3 years. The data contains 10503 instances (financial statements), 495 represents bankrupted companies, 10008 firms that did not bankrupt in the forecasting period. "
   ]
  },
  {
   "cell_type": "code",
   "execution_count": 1,
   "metadata": {
    "collapsed": false
   },
   "outputs": [],
   "source": [
    "# Loading all needed library\n",
    "\n",
    "from scipy.io import arff\n",
    "import numpy as np\n",
    "import pandas as pd\n",
    "\n",
    "import matplotlib.pyplot as plt\n",
    "from sklearn.linear_model import LinearRegression, Ridge, Lasso, ElasticNet, LogisticRegression\n",
    "from sklearn.model_selection import train_test_split, GridSearchCV, ShuffleSplit, cross_val_score\n",
    "from sklearn.metrics import accuracy_score, log_loss\n",
    "from sklearn.preprocessing import Imputer\n",
    "from sklearn.tree import DecisionTreeClassifier\n",
    "\n",
    "%matplotlib inline"
   ]
  },
  {
   "cell_type": "code",
   "execution_count": 2,
   "metadata": {
    "collapsed": false,
    "scrolled": true
   },
   "outputs": [
    {
     "data": {
      "text/html": [
       "<div>\n",
       "<style scoped>\n",
       "    .dataframe tbody tr th:only-of-type {\n",
       "        vertical-align: middle;\n",
       "    }\n",
       "\n",
       "    .dataframe tbody tr th {\n",
       "        vertical-align: top;\n",
       "    }\n",
       "\n",
       "    .dataframe thead th {\n",
       "        text-align: right;\n",
       "    }\n",
       "</style>\n",
       "<table border=\"1\" class=\"dataframe\">\n",
       "  <thead>\n",
       "    <tr style=\"text-align: right;\">\n",
       "      <th></th>\n",
       "      <th>Attr1</th>\n",
       "      <th>Attr2</th>\n",
       "      <th>Attr3</th>\n",
       "      <th>Attr4</th>\n",
       "      <th>Attr5</th>\n",
       "      <th>Attr6</th>\n",
       "      <th>Attr7</th>\n",
       "      <th>Attr8</th>\n",
       "      <th>Attr9</th>\n",
       "      <th>Attr10</th>\n",
       "      <th>...</th>\n",
       "      <th>Attr56</th>\n",
       "      <th>Attr57</th>\n",
       "      <th>Attr58</th>\n",
       "      <th>Attr59</th>\n",
       "      <th>Attr60</th>\n",
       "      <th>Attr61</th>\n",
       "      <th>Attr62</th>\n",
       "      <th>Attr63</th>\n",
       "      <th>Attr64</th>\n",
       "      <th>class</th>\n",
       "    </tr>\n",
       "  </thead>\n",
       "  <tbody>\n",
       "    <tr>\n",
       "      <th>0</th>\n",
       "      <td>0.174190</td>\n",
       "      <td>0.41299</td>\n",
       "      <td>0.14371</td>\n",
       "      <td>1.3480</td>\n",
       "      <td>-28.9820</td>\n",
       "      <td>0.60383</td>\n",
       "      <td>0.219460</td>\n",
       "      <td>1.1225</td>\n",
       "      <td>1.1961</td>\n",
       "      <td>0.46359</td>\n",
       "      <td>...</td>\n",
       "      <td>0.163960</td>\n",
       "      <td>0.375740</td>\n",
       "      <td>0.83604</td>\n",
       "      <td>0.000007</td>\n",
       "      <td>9.7145</td>\n",
       "      <td>6.2813</td>\n",
       "      <td>84.291</td>\n",
       "      <td>4.3303</td>\n",
       "      <td>4.0341</td>\n",
       "      <td>b'0'</td>\n",
       "    </tr>\n",
       "    <tr>\n",
       "      <th>1</th>\n",
       "      <td>0.146240</td>\n",
       "      <td>0.46038</td>\n",
       "      <td>0.28230</td>\n",
       "      <td>1.6294</td>\n",
       "      <td>2.5952</td>\n",
       "      <td>0.00000</td>\n",
       "      <td>0.171850</td>\n",
       "      <td>1.1721</td>\n",
       "      <td>1.6018</td>\n",
       "      <td>0.53962</td>\n",
       "      <td>...</td>\n",
       "      <td>0.027516</td>\n",
       "      <td>0.271000</td>\n",
       "      <td>0.90108</td>\n",
       "      <td>0.000000</td>\n",
       "      <td>5.9882</td>\n",
       "      <td>4.1103</td>\n",
       "      <td>102.190</td>\n",
       "      <td>3.5716</td>\n",
       "      <td>5.9500</td>\n",
       "      <td>b'0'</td>\n",
       "    </tr>\n",
       "    <tr>\n",
       "      <th>2</th>\n",
       "      <td>0.000595</td>\n",
       "      <td>0.22612</td>\n",
       "      <td>0.48839</td>\n",
       "      <td>3.1599</td>\n",
       "      <td>84.8740</td>\n",
       "      <td>0.19114</td>\n",
       "      <td>0.004572</td>\n",
       "      <td>2.9881</td>\n",
       "      <td>1.0077</td>\n",
       "      <td>0.67566</td>\n",
       "      <td>...</td>\n",
       "      <td>0.007639</td>\n",
       "      <td>0.000881</td>\n",
       "      <td>0.99236</td>\n",
       "      <td>0.000000</td>\n",
       "      <td>6.7742</td>\n",
       "      <td>3.7922</td>\n",
       "      <td>64.846</td>\n",
       "      <td>5.6287</td>\n",
       "      <td>4.4581</td>\n",
       "      <td>b'0'</td>\n",
       "    </tr>\n",
       "    <tr>\n",
       "      <th>3</th>\n",
       "      <td>0.024526</td>\n",
       "      <td>0.43236</td>\n",
       "      <td>0.27546</td>\n",
       "      <td>1.7833</td>\n",
       "      <td>-10.1050</td>\n",
       "      <td>0.56944</td>\n",
       "      <td>0.024526</td>\n",
       "      <td>1.3057</td>\n",
       "      <td>1.0509</td>\n",
       "      <td>0.56453</td>\n",
       "      <td>...</td>\n",
       "      <td>0.048398</td>\n",
       "      <td>0.043445</td>\n",
       "      <td>0.95160</td>\n",
       "      <td>0.142980</td>\n",
       "      <td>4.2286</td>\n",
       "      <td>5.0528</td>\n",
       "      <td>98.783</td>\n",
       "      <td>3.6950</td>\n",
       "      <td>3.4844</td>\n",
       "      <td>b'0'</td>\n",
       "    </tr>\n",
       "    <tr>\n",
       "      <th>4</th>\n",
       "      <td>0.188290</td>\n",
       "      <td>0.41504</td>\n",
       "      <td>0.34231</td>\n",
       "      <td>1.9279</td>\n",
       "      <td>-58.2740</td>\n",
       "      <td>0.00000</td>\n",
       "      <td>0.233580</td>\n",
       "      <td>1.4094</td>\n",
       "      <td>1.3393</td>\n",
       "      <td>0.58496</td>\n",
       "      <td>...</td>\n",
       "      <td>0.176480</td>\n",
       "      <td>0.321880</td>\n",
       "      <td>0.82635</td>\n",
       "      <td>0.073039</td>\n",
       "      <td>2.5912</td>\n",
       "      <td>7.0756</td>\n",
       "      <td>100.540</td>\n",
       "      <td>3.6303</td>\n",
       "      <td>4.6375</td>\n",
       "      <td>b'0'</td>\n",
       "    </tr>\n",
       "  </tbody>\n",
       "</table>\n",
       "<p>5 rows × 65 columns</p>\n",
       "</div>"
      ],
      "text/plain": [
       "      Attr1    Attr2    Attr3   Attr4    Attr5    Attr6     Attr7   Attr8  \\\n",
       "0  0.174190  0.41299  0.14371  1.3480 -28.9820  0.60383  0.219460  1.1225   \n",
       "1  0.146240  0.46038  0.28230  1.6294   2.5952  0.00000  0.171850  1.1721   \n",
       "2  0.000595  0.22612  0.48839  3.1599  84.8740  0.19114  0.004572  2.9881   \n",
       "3  0.024526  0.43236  0.27546  1.7833 -10.1050  0.56944  0.024526  1.3057   \n",
       "4  0.188290  0.41504  0.34231  1.9279 -58.2740  0.00000  0.233580  1.4094   \n",
       "\n",
       "    Attr9   Attr10  ...      Attr56    Attr57   Attr58    Attr59  Attr60  \\\n",
       "0  1.1961  0.46359  ...    0.163960  0.375740  0.83604  0.000007  9.7145   \n",
       "1  1.6018  0.53962  ...    0.027516  0.271000  0.90108  0.000000  5.9882   \n",
       "2  1.0077  0.67566  ...    0.007639  0.000881  0.99236  0.000000  6.7742   \n",
       "3  1.0509  0.56453  ...    0.048398  0.043445  0.95160  0.142980  4.2286   \n",
       "4  1.3393  0.58496  ...    0.176480  0.321880  0.82635  0.073039  2.5912   \n",
       "\n",
       "   Attr61   Attr62  Attr63  Attr64  class  \n",
       "0  6.2813   84.291  4.3303  4.0341   b'0'  \n",
       "1  4.1103  102.190  3.5716  5.9500   b'0'  \n",
       "2  3.7922   64.846  5.6287  4.4581   b'0'  \n",
       "3  5.0528   98.783  3.6950  3.4844   b'0'  \n",
       "4  7.0756  100.540  3.6303  4.6375   b'0'  \n",
       "\n",
       "[5 rows x 65 columns]"
      ]
     },
     "execution_count": 2,
     "metadata": {},
     "output_type": "execute_result"
    }
   ],
   "source": [
    "# Importing data\n",
    "data = arff.loadarff('../data/3year.arff')\n",
    "df = pd.DataFrame(data[0])\n",
    "\n",
    "# Take a glance at the dataset:\n",
    "df.head()"
   ]
  },
  {
   "cell_type": "markdown",
   "metadata": {},
   "source": [
    "## 2. Data Wrangling\n",
    "\n",
    "### Replacing feature *class* into a binary label\n",
    "> It can be seen that the last column contains the label of each company whether it was bankrupt in the forecasting period or not. I want to transform it into binary label which will be easier to handle than character labels.\n",
    "\n",
    "The new label will be:\n",
    "- 0: represents firms that did not bankrupt in the forecasting period        \n",
    "- 1: represents bankrupted companies"
   ]
  },
  {
   "cell_type": "code",
   "execution_count": 3,
   "metadata": {
    "collapsed": false,
    "scrolled": true
   },
   "outputs": [
    {
     "data": {
      "text/html": [
       "<div>\n",
       "<style scoped>\n",
       "    .dataframe tbody tr th:only-of-type {\n",
       "        vertical-align: middle;\n",
       "    }\n",
       "\n",
       "    .dataframe tbody tr th {\n",
       "        vertical-align: top;\n",
       "    }\n",
       "\n",
       "    .dataframe thead th {\n",
       "        text-align: right;\n",
       "    }\n",
       "</style>\n",
       "<table border=\"1\" class=\"dataframe\">\n",
       "  <thead>\n",
       "    <tr style=\"text-align: right;\">\n",
       "      <th></th>\n",
       "      <th>Attr1</th>\n",
       "      <th>Attr2</th>\n",
       "      <th>Attr3</th>\n",
       "      <th>Attr4</th>\n",
       "      <th>Attr5</th>\n",
       "      <th>Attr6</th>\n",
       "      <th>Attr7</th>\n",
       "      <th>Attr8</th>\n",
       "      <th>Attr9</th>\n",
       "      <th>Attr10</th>\n",
       "      <th>...</th>\n",
       "      <th>Attr56</th>\n",
       "      <th>Attr57</th>\n",
       "      <th>Attr58</th>\n",
       "      <th>Attr59</th>\n",
       "      <th>Attr60</th>\n",
       "      <th>Attr61</th>\n",
       "      <th>Attr62</th>\n",
       "      <th>Attr63</th>\n",
       "      <th>Attr64</th>\n",
       "      <th>bankrupt</th>\n",
       "    </tr>\n",
       "  </thead>\n",
       "  <tbody>\n",
       "    <tr>\n",
       "      <th>0</th>\n",
       "      <td>0.174190</td>\n",
       "      <td>0.41299</td>\n",
       "      <td>0.14371</td>\n",
       "      <td>1.3480</td>\n",
       "      <td>-28.9820</td>\n",
       "      <td>0.60383</td>\n",
       "      <td>0.219460</td>\n",
       "      <td>1.1225</td>\n",
       "      <td>1.1961</td>\n",
       "      <td>0.46359</td>\n",
       "      <td>...</td>\n",
       "      <td>0.163960</td>\n",
       "      <td>0.375740</td>\n",
       "      <td>0.83604</td>\n",
       "      <td>0.000007</td>\n",
       "      <td>9.7145</td>\n",
       "      <td>6.2813</td>\n",
       "      <td>84.291</td>\n",
       "      <td>4.3303</td>\n",
       "      <td>4.0341</td>\n",
       "      <td>0</td>\n",
       "    </tr>\n",
       "    <tr>\n",
       "      <th>1</th>\n",
       "      <td>0.146240</td>\n",
       "      <td>0.46038</td>\n",
       "      <td>0.28230</td>\n",
       "      <td>1.6294</td>\n",
       "      <td>2.5952</td>\n",
       "      <td>0.00000</td>\n",
       "      <td>0.171850</td>\n",
       "      <td>1.1721</td>\n",
       "      <td>1.6018</td>\n",
       "      <td>0.53962</td>\n",
       "      <td>...</td>\n",
       "      <td>0.027516</td>\n",
       "      <td>0.271000</td>\n",
       "      <td>0.90108</td>\n",
       "      <td>0.000000</td>\n",
       "      <td>5.9882</td>\n",
       "      <td>4.1103</td>\n",
       "      <td>102.190</td>\n",
       "      <td>3.5716</td>\n",
       "      <td>5.9500</td>\n",
       "      <td>0</td>\n",
       "    </tr>\n",
       "    <tr>\n",
       "      <th>2</th>\n",
       "      <td>0.000595</td>\n",
       "      <td>0.22612</td>\n",
       "      <td>0.48839</td>\n",
       "      <td>3.1599</td>\n",
       "      <td>84.8740</td>\n",
       "      <td>0.19114</td>\n",
       "      <td>0.004572</td>\n",
       "      <td>2.9881</td>\n",
       "      <td>1.0077</td>\n",
       "      <td>0.67566</td>\n",
       "      <td>...</td>\n",
       "      <td>0.007639</td>\n",
       "      <td>0.000881</td>\n",
       "      <td>0.99236</td>\n",
       "      <td>0.000000</td>\n",
       "      <td>6.7742</td>\n",
       "      <td>3.7922</td>\n",
       "      <td>64.846</td>\n",
       "      <td>5.6287</td>\n",
       "      <td>4.4581</td>\n",
       "      <td>0</td>\n",
       "    </tr>\n",
       "    <tr>\n",
       "      <th>3</th>\n",
       "      <td>0.024526</td>\n",
       "      <td>0.43236</td>\n",
       "      <td>0.27546</td>\n",
       "      <td>1.7833</td>\n",
       "      <td>-10.1050</td>\n",
       "      <td>0.56944</td>\n",
       "      <td>0.024526</td>\n",
       "      <td>1.3057</td>\n",
       "      <td>1.0509</td>\n",
       "      <td>0.56453</td>\n",
       "      <td>...</td>\n",
       "      <td>0.048398</td>\n",
       "      <td>0.043445</td>\n",
       "      <td>0.95160</td>\n",
       "      <td>0.142980</td>\n",
       "      <td>4.2286</td>\n",
       "      <td>5.0528</td>\n",
       "      <td>98.783</td>\n",
       "      <td>3.6950</td>\n",
       "      <td>3.4844</td>\n",
       "      <td>0</td>\n",
       "    </tr>\n",
       "    <tr>\n",
       "      <th>4</th>\n",
       "      <td>0.188290</td>\n",
       "      <td>0.41504</td>\n",
       "      <td>0.34231</td>\n",
       "      <td>1.9279</td>\n",
       "      <td>-58.2740</td>\n",
       "      <td>0.00000</td>\n",
       "      <td>0.233580</td>\n",
       "      <td>1.4094</td>\n",
       "      <td>1.3393</td>\n",
       "      <td>0.58496</td>\n",
       "      <td>...</td>\n",
       "      <td>0.176480</td>\n",
       "      <td>0.321880</td>\n",
       "      <td>0.82635</td>\n",
       "      <td>0.073039</td>\n",
       "      <td>2.5912</td>\n",
       "      <td>7.0756</td>\n",
       "      <td>100.540</td>\n",
       "      <td>3.6303</td>\n",
       "      <td>4.6375</td>\n",
       "      <td>0</td>\n",
       "    </tr>\n",
       "  </tbody>\n",
       "</table>\n",
       "<p>5 rows × 65 columns</p>\n",
       "</div>"
      ],
      "text/plain": [
       "      Attr1    Attr2    Attr3   Attr4    Attr5    Attr6     Attr7   Attr8  \\\n",
       "0  0.174190  0.41299  0.14371  1.3480 -28.9820  0.60383  0.219460  1.1225   \n",
       "1  0.146240  0.46038  0.28230  1.6294   2.5952  0.00000  0.171850  1.1721   \n",
       "2  0.000595  0.22612  0.48839  3.1599  84.8740  0.19114  0.004572  2.9881   \n",
       "3  0.024526  0.43236  0.27546  1.7833 -10.1050  0.56944  0.024526  1.3057   \n",
       "4  0.188290  0.41504  0.34231  1.9279 -58.2740  0.00000  0.233580  1.4094   \n",
       "\n",
       "    Attr9   Attr10    ...       Attr56    Attr57   Attr58    Attr59  Attr60  \\\n",
       "0  1.1961  0.46359    ...     0.163960  0.375740  0.83604  0.000007  9.7145   \n",
       "1  1.6018  0.53962    ...     0.027516  0.271000  0.90108  0.000000  5.9882   \n",
       "2  1.0077  0.67566    ...     0.007639  0.000881  0.99236  0.000000  6.7742   \n",
       "3  1.0509  0.56453    ...     0.048398  0.043445  0.95160  0.142980  4.2286   \n",
       "4  1.3393  0.58496    ...     0.176480  0.321880  0.82635  0.073039  2.5912   \n",
       "\n",
       "   Attr61   Attr62  Attr63  Attr64  bankrupt  \n",
       "0  6.2813   84.291  4.3303  4.0341         0  \n",
       "1  4.1103  102.190  3.5716  5.9500         0  \n",
       "2  3.7922   64.846  5.6287  4.4581         0  \n",
       "3  5.0528   98.783  3.6950  3.4844         0  \n",
       "4  7.0756  100.540  3.6303  4.6375         0  \n",
       "\n",
       "[5 rows x 65 columns]"
      ]
     },
     "execution_count": 3,
     "metadata": {},
     "output_type": "execute_result"
    }
   ],
   "source": [
    "df['bankrupt'] = df['class'].map({b'0':0, b'1':1})\n",
    "# After replacing, remove the unused feature\n",
    "df.drop('class',axis=1,inplace=True)\n",
    "df.head()"
   ]
  },
  {
   "cell_type": "markdown",
   "metadata": {},
   "source": [
    "Preliminary examination of the dataset:"
   ]
  },
  {
   "cell_type": "code",
   "execution_count": 4,
   "metadata": {
    "collapsed": false
   },
   "outputs": [
    {
     "name": "stdout",
     "output_type": "stream",
     "text": [
      "10503 number of observation/ instances (financial statements)\n",
      "65 number of features\n",
      "10008 firms that did not bankrupt in the forecasting period\n",
      "495 bankrupted companies\n"
     ]
    }
   ],
   "source": [
    "# 495 represents bankrupted companies, 10008 firms that did not bankrupt in the forecasting period. \n",
    "\n",
    "print(df.shape[0],\"number of observation/ instances (financial statements)\")\n",
    "print(df.shape[1],\"number of features\")\n",
    "print(df['bankrupt'].value_counts()[0],\"firms that did not bankrupt in the forecasting period\")\n",
    "print(df['bankrupt'].value_counts()[1],\"bankrupted companies\")"
   ]
  },
  {
   "cell_type": "markdown",
   "metadata": {},
   "source": [
    "### Missing data\n",
    "The data repository makes a note that there are missing values in this dataset, so I will take a look at how bad the situation is:"
   ]
  },
  {
   "cell_type": "code",
   "execution_count": 5,
   "metadata": {
    "collapsed": false,
    "scrolled": true
   },
   "outputs": [
    {
     "name": "stdout",
     "output_type": "stream",
     "text": [
      "Attr1 has 0 missing value(s)\n",
      "Attr2 has 0 missing value(s)\n",
      "Attr3 has 0 missing value(s)\n",
      "Attr4 has 18 missing value(s)\n",
      "Attr5 has 25 missing value(s)\n",
      "Attr6 has 0 missing value(s)\n",
      "Attr7 has 0 missing value(s)\n",
      "Attr8 has 14 missing value(s)\n",
      "Attr9 has 3 missing value(s)\n",
      "Attr10 has 0 missing value(s)\n",
      "Attr11 has 0 missing value(s)\n",
      "Attr12 has 18 missing value(s)\n",
      "Attr13 has 43 missing value(s)\n",
      "Attr14 has 0 missing value(s)\n",
      "Attr15 has 8 missing value(s)\n",
      "Attr16 has 14 missing value(s)\n",
      "Attr17 has 14 missing value(s)\n",
      "Attr18 has 0 missing value(s)\n",
      "Attr19 has 43 missing value(s)\n",
      "Attr20 has 43 missing value(s)\n",
      "Attr21 has 807 missing value(s)\n",
      "Attr22 has 0 missing value(s)\n",
      "Attr23 has 43 missing value(s)\n",
      "Attr24 has 227 missing value(s)\n",
      "Attr25 has 0 missing value(s)\n",
      "Attr26 has 14 missing value(s)\n",
      "Attr27 has 715 missing value(s)\n",
      "Attr28 has 228 missing value(s)\n",
      "Attr29 has 0 missing value(s)\n",
      "Attr30 has 43 missing value(s)\n",
      "Attr31 has 43 missing value(s)\n",
      "Attr32 has 101 missing value(s)\n",
      "Attr33 has 18 missing value(s)\n",
      "Attr34 has 14 missing value(s)\n",
      "Attr35 has 0 missing value(s)\n",
      "Attr36 has 0 missing value(s)\n",
      "Attr37 has 4736 missing value(s)\n",
      "Attr38 has 0 missing value(s)\n",
      "Attr39 has 43 missing value(s)\n",
      "Attr40 has 18 missing value(s)\n",
      "Attr41 has 202 missing value(s)\n",
      "Attr42 has 43 missing value(s)\n",
      "Attr43 has 43 missing value(s)\n",
      "Attr44 has 43 missing value(s)\n",
      "Attr45 has 591 missing value(s)\n",
      "Attr46 has 18 missing value(s)\n",
      "Attr47 has 86 missing value(s)\n",
      "Attr48 has 0 missing value(s)\n",
      "Attr49 has 43 missing value(s)\n",
      "Attr50 has 14 missing value(s)\n",
      "Attr51 has 0 missing value(s)\n",
      "Attr52 has 86 missing value(s)\n",
      "Attr53 has 228 missing value(s)\n",
      "Attr54 has 228 missing value(s)\n",
      "Attr55 has 0 missing value(s)\n",
      "Attr56 has 43 missing value(s)\n",
      "Attr57 has 0 missing value(s)\n",
      "Attr58 has 29 missing value(s)\n",
      "Attr59 has 0 missing value(s)\n",
      "Attr60 has 592 missing value(s)\n",
      "Attr61 has 17 missing value(s)\n",
      "Attr62 has 43 missing value(s)\n",
      "Attr63 has 18 missing value(s)\n",
      "Attr64 has 228 missing value(s)\n",
      "bankrupt has 0 missing value(s)\n"
     ]
    }
   ],
   "source": [
    "# Explore the missing data:\n",
    "for i in list(df):\n",
    "    print(i,\"has {0} missing value(s)\".format(df[df[i].isnull()].shape[0]))"
   ]
  },
  {
   "cell_type": "markdown",
   "metadata": {},
   "source": [
    "There's no missing label, which is a good sign. However, there are many attributes that have missing data. It's better to exclude feature that has more than 20% missing values: Attribute 37. Other features that have missing values will be imputed later in the modeling process."
   ]
  },
  {
   "cell_type": "code",
   "execution_count": 6,
   "metadata": {
    "collapsed": true
   },
   "outputs": [],
   "source": [
    "# Excluding Attr37 which has 4736 missing values (47% data lost)\n",
    "df.drop('Attr37',axis=1,inplace=True)"
   ]
  },
  {
   "cell_type": "markdown",
   "metadata": {},
   "source": [
    "## 3. Exploratory data analysis (EDA)\n",
    "\n",
    "First, we will take a look at some statistic of all features since all 64 features are continuous values."
   ]
  },
  {
   "cell_type": "code",
   "execution_count": 7,
   "metadata": {
    "collapsed": false
   },
   "outputs": [
    {
     "data": {
      "text/html": [
       "<div>\n",
       "<style scoped>\n",
       "    .dataframe tbody tr th:only-of-type {\n",
       "        vertical-align: middle;\n",
       "    }\n",
       "\n",
       "    .dataframe tbody tr th {\n",
       "        vertical-align: top;\n",
       "    }\n",
       "\n",
       "    .dataframe thead th {\n",
       "        text-align: right;\n",
       "    }\n",
       "</style>\n",
       "<table border=\"1\" class=\"dataframe\">\n",
       "  <thead>\n",
       "    <tr style=\"text-align: right;\">\n",
       "      <th></th>\n",
       "      <th>Attr1</th>\n",
       "      <th>Attr2</th>\n",
       "      <th>Attr3</th>\n",
       "      <th>Attr4</th>\n",
       "      <th>Attr5</th>\n",
       "      <th>Attr6</th>\n",
       "      <th>Attr7</th>\n",
       "      <th>Attr8</th>\n",
       "      <th>Attr9</th>\n",
       "      <th>Attr10</th>\n",
       "      <th>...</th>\n",
       "      <th>Attr56</th>\n",
       "      <th>Attr57</th>\n",
       "      <th>Attr58</th>\n",
       "      <th>Attr59</th>\n",
       "      <th>Attr60</th>\n",
       "      <th>Attr61</th>\n",
       "      <th>Attr62</th>\n",
       "      <th>Attr63</th>\n",
       "      <th>Attr64</th>\n",
       "      <th>bankrupt</th>\n",
       "    </tr>\n",
       "  </thead>\n",
       "  <tbody>\n",
       "    <tr>\n",
       "      <th>count</th>\n",
       "      <td>10503.000000</td>\n",
       "      <td>10503.000000</td>\n",
       "      <td>10503.000000</td>\n",
       "      <td>10485.000000</td>\n",
       "      <td>1.047800e+04</td>\n",
       "      <td>10503.000000</td>\n",
       "      <td>10503.000000</td>\n",
       "      <td>10489.000000</td>\n",
       "      <td>10500.000000</td>\n",
       "      <td>10503.000000</td>\n",
       "      <td>...</td>\n",
       "      <td>10460.000000</td>\n",
       "      <td>10503.000000</td>\n",
       "      <td>10474.000000</td>\n",
       "      <td>10503.000000</td>\n",
       "      <td>9.911000e+03</td>\n",
       "      <td>10486.000000</td>\n",
       "      <td>1.046000e+04</td>\n",
       "      <td>10485.000000</td>\n",
       "      <td>10275.000000</td>\n",
       "      <td>10503.000000</td>\n",
       "    </tr>\n",
       "    <tr>\n",
       "      <th>mean</th>\n",
       "      <td>0.052844</td>\n",
       "      <td>0.619911</td>\n",
       "      <td>0.095490</td>\n",
       "      <td>9.980499</td>\n",
       "      <td>-1.347662e+03</td>\n",
       "      <td>-0.121159</td>\n",
       "      <td>0.065624</td>\n",
       "      <td>19.140113</td>\n",
       "      <td>1.819254</td>\n",
       "      <td>0.366093</td>\n",
       "      <td>...</td>\n",
       "      <td>-0.530082</td>\n",
       "      <td>-0.014817</td>\n",
       "      <td>3.848794</td>\n",
       "      <td>1.429319</td>\n",
       "      <td>5.713363e+02</td>\n",
       "      <td>13.935361</td>\n",
       "      <td>1.355370e+02</td>\n",
       "      <td>9.095149</td>\n",
       "      <td>35.766800</td>\n",
       "      <td>0.047129</td>\n",
       "    </tr>\n",
       "    <tr>\n",
       "      <th>std</th>\n",
       "      <td>0.647797</td>\n",
       "      <td>6.427041</td>\n",
       "      <td>6.420056</td>\n",
       "      <td>523.691951</td>\n",
       "      <td>1.185806e+05</td>\n",
       "      <td>6.970625</td>\n",
       "      <td>0.651152</td>\n",
       "      <td>717.756745</td>\n",
       "      <td>7.581659</td>\n",
       "      <td>6.428603</td>\n",
       "      <td>...</td>\n",
       "      <td>55.978608</td>\n",
       "      <td>18.684047</td>\n",
       "      <td>190.201224</td>\n",
       "      <td>77.273270</td>\n",
       "      <td>3.715967e+04</td>\n",
       "      <td>83.704103</td>\n",
       "      <td>2.599116e+04</td>\n",
       "      <td>31.419096</td>\n",
       "      <td>428.298315</td>\n",
       "      <td>0.211926</td>\n",
       "    </tr>\n",
       "    <tr>\n",
       "      <th>min</th>\n",
       "      <td>-17.692000</td>\n",
       "      <td>0.000000</td>\n",
       "      <td>-479.730000</td>\n",
       "      <td>0.002080</td>\n",
       "      <td>-1.190300e+07</td>\n",
       "      <td>-508.120000</td>\n",
       "      <td>-17.692000</td>\n",
       "      <td>-2.081800</td>\n",
       "      <td>-1.215700</td>\n",
       "      <td>-479.730000</td>\n",
       "      <td>...</td>\n",
       "      <td>-5691.700000</td>\n",
       "      <td>-1667.300000</td>\n",
       "      <td>-198.690000</td>\n",
       "      <td>-172.070000</td>\n",
       "      <td>0.000000e+00</td>\n",
       "      <td>-6.590300</td>\n",
       "      <td>-2.336500e+06</td>\n",
       "      <td>-0.000156</td>\n",
       "      <td>-0.000102</td>\n",
       "      <td>0.000000</td>\n",
       "    </tr>\n",
       "    <tr>\n",
       "      <th>25%</th>\n",
       "      <td>0.000686</td>\n",
       "      <td>0.253955</td>\n",
       "      <td>0.017461</td>\n",
       "      <td>1.040100</td>\n",
       "      <td>-5.207075e+01</td>\n",
       "      <td>0.000000</td>\n",
       "      <td>0.002118</td>\n",
       "      <td>0.431270</td>\n",
       "      <td>1.011275</td>\n",
       "      <td>0.297340</td>\n",
       "      <td>...</td>\n",
       "      <td>0.005137</td>\n",
       "      <td>0.006796</td>\n",
       "      <td>0.875560</td>\n",
       "      <td>0.000000</td>\n",
       "      <td>5.533150e+00</td>\n",
       "      <td>4.486075</td>\n",
       "      <td>4.073700e+01</td>\n",
       "      <td>3.062800</td>\n",
       "      <td>2.023350</td>\n",
       "      <td>0.000000</td>\n",
       "    </tr>\n",
       "    <tr>\n",
       "      <th>50%</th>\n",
       "      <td>0.043034</td>\n",
       "      <td>0.464140</td>\n",
       "      <td>0.198560</td>\n",
       "      <td>1.605600</td>\n",
       "      <td>1.579300e+00</td>\n",
       "      <td>0.000000</td>\n",
       "      <td>0.050945</td>\n",
       "      <td>1.111000</td>\n",
       "      <td>1.199000</td>\n",
       "      <td>0.515500</td>\n",
       "      <td>...</td>\n",
       "      <td>0.051765</td>\n",
       "      <td>0.106880</td>\n",
       "      <td>0.953060</td>\n",
       "      <td>0.002976</td>\n",
       "      <td>9.952100e+00</td>\n",
       "      <td>6.677300</td>\n",
       "      <td>7.066400e+01</td>\n",
       "      <td>5.139200</td>\n",
       "      <td>4.059300</td>\n",
       "      <td>0.000000</td>\n",
       "    </tr>\n",
       "    <tr>\n",
       "      <th>75%</th>\n",
       "      <td>0.123805</td>\n",
       "      <td>0.689330</td>\n",
       "      <td>0.419545</td>\n",
       "      <td>2.959500</td>\n",
       "      <td>5.608400e+01</td>\n",
       "      <td>0.072584</td>\n",
       "      <td>0.142275</td>\n",
       "      <td>2.857100</td>\n",
       "      <td>2.059100</td>\n",
       "      <td>0.725635</td>\n",
       "      <td>...</td>\n",
       "      <td>0.130010</td>\n",
       "      <td>0.271310</td>\n",
       "      <td>0.995927</td>\n",
       "      <td>0.240320</td>\n",
       "      <td>2.093600e+01</td>\n",
       "      <td>10.587500</td>\n",
       "      <td>1.182200e+02</td>\n",
       "      <td>8.882600</td>\n",
       "      <td>9.682750</td>\n",
       "      <td>0.000000</td>\n",
       "    </tr>\n",
       "    <tr>\n",
       "      <th>max</th>\n",
       "      <td>52.652000</td>\n",
       "      <td>480.730000</td>\n",
       "      <td>17.708000</td>\n",
       "      <td>53433.000000</td>\n",
       "      <td>6.854400e+05</td>\n",
       "      <td>45.533000</td>\n",
       "      <td>52.652000</td>\n",
       "      <td>53432.000000</td>\n",
       "      <td>740.440000</td>\n",
       "      <td>11.837000</td>\n",
       "      <td>...</td>\n",
       "      <td>293.150000</td>\n",
       "      <td>552.640000</td>\n",
       "      <td>18118.000000</td>\n",
       "      <td>7617.300000</td>\n",
       "      <td>3.660200e+06</td>\n",
       "      <td>4470.400000</td>\n",
       "      <td>1.073500e+06</td>\n",
       "      <td>1974.500000</td>\n",
       "      <td>21499.000000</td>\n",
       "      <td>1.000000</td>\n",
       "    </tr>\n",
       "  </tbody>\n",
       "</table>\n",
       "<p>8 rows × 64 columns</p>\n",
       "</div>"
      ],
      "text/plain": [
       "              Attr1         Attr2         Attr3         Attr4         Attr5  \\\n",
       "count  10503.000000  10503.000000  10503.000000  10485.000000  1.047800e+04   \n",
       "mean       0.052844      0.619911      0.095490      9.980499 -1.347662e+03   \n",
       "std        0.647797      6.427041      6.420056    523.691951  1.185806e+05   \n",
       "min      -17.692000      0.000000   -479.730000      0.002080 -1.190300e+07   \n",
       "25%        0.000686      0.253955      0.017461      1.040100 -5.207075e+01   \n",
       "50%        0.043034      0.464140      0.198560      1.605600  1.579300e+00   \n",
       "75%        0.123805      0.689330      0.419545      2.959500  5.608400e+01   \n",
       "max       52.652000    480.730000     17.708000  53433.000000  6.854400e+05   \n",
       "\n",
       "              Attr6         Attr7         Attr8         Attr9        Attr10  \\\n",
       "count  10503.000000  10503.000000  10489.000000  10500.000000  10503.000000   \n",
       "mean      -0.121159      0.065624     19.140113      1.819254      0.366093   \n",
       "std        6.970625      0.651152    717.756745      7.581659      6.428603   \n",
       "min     -508.120000    -17.692000     -2.081800     -1.215700   -479.730000   \n",
       "25%        0.000000      0.002118      0.431270      1.011275      0.297340   \n",
       "50%        0.000000      0.050945      1.111000      1.199000      0.515500   \n",
       "75%        0.072584      0.142275      2.857100      2.059100      0.725635   \n",
       "max       45.533000     52.652000  53432.000000    740.440000     11.837000   \n",
       "\n",
       "           ...             Attr56        Attr57        Attr58        Attr59  \\\n",
       "count      ...       10460.000000  10503.000000  10474.000000  10503.000000   \n",
       "mean       ...          -0.530082     -0.014817      3.848794      1.429319   \n",
       "std        ...          55.978608     18.684047    190.201224     77.273270   \n",
       "min        ...       -5691.700000  -1667.300000   -198.690000   -172.070000   \n",
       "25%        ...           0.005137      0.006796      0.875560      0.000000   \n",
       "50%        ...           0.051765      0.106880      0.953060      0.002976   \n",
       "75%        ...           0.130010      0.271310      0.995927      0.240320   \n",
       "max        ...         293.150000    552.640000  18118.000000   7617.300000   \n",
       "\n",
       "             Attr60        Attr61        Attr62        Attr63        Attr64  \\\n",
       "count  9.911000e+03  10486.000000  1.046000e+04  10485.000000  10275.000000   \n",
       "mean   5.713363e+02     13.935361  1.355370e+02      9.095149     35.766800   \n",
       "std    3.715967e+04     83.704103  2.599116e+04     31.419096    428.298315   \n",
       "min    0.000000e+00     -6.590300 -2.336500e+06     -0.000156     -0.000102   \n",
       "25%    5.533150e+00      4.486075  4.073700e+01      3.062800      2.023350   \n",
       "50%    9.952100e+00      6.677300  7.066400e+01      5.139200      4.059300   \n",
       "75%    2.093600e+01     10.587500  1.182200e+02      8.882600      9.682750   \n",
       "max    3.660200e+06   4470.400000  1.073500e+06   1974.500000  21499.000000   \n",
       "\n",
       "           bankrupt  \n",
       "count  10503.000000  \n",
       "mean       0.047129  \n",
       "std        0.211926  \n",
       "min        0.000000  \n",
       "25%        0.000000  \n",
       "50%        0.000000  \n",
       "75%        0.000000  \n",
       "max        1.000000  \n",
       "\n",
       "[8 rows x 64 columns]"
      ]
     },
     "execution_count": 7,
     "metadata": {},
     "output_type": "execute_result"
    }
   ],
   "source": [
    "df.describe()"
   ]
  },
  {
   "cell_type": "markdown",
   "metadata": {},
   "source": [
    "Then we will take a look at the differences between two groups (bankrupt and not bankrupt companies) with regards to three important features:\n",
    "- Attr4: current assets / short-term liabilities\n",
    "- Attr17: total assets / total liabilities  \n",
    "- Attr23: net profit / sales"
   ]
  },
  {
   "cell_type": "code",
   "execution_count": 8,
   "metadata": {
    "collapsed": false
   },
   "outputs": [
    {
     "data": {
      "text/plain": [
       "<matplotlib.axes._subplots.AxesSubplot at 0xa695069400>"
      ]
     },
     "execution_count": 8,
     "metadata": {},
     "output_type": "execute_result"
    },
    {
     "data": {
      "image/png": "[encoded data removed]",
      "text/plain": [
       "<matplotlib.figure.Figure at 0xa69024d710>"
      ]
     },
     "metadata": {},
     "output_type": "display_data"
    }
   ],
   "source": [
    "df.groupby([\"bankrupt\"])[\"Attr23\",\"Attr17\",\"Attr4\"].mean().plot(kind=\"bar\",title=\"Prelimenary plot\",figsize=(12,7))"
   ]
  },
  {
   "cell_type": "markdown",
   "metadata": {
    "collapsed": false
   },
   "source": [
    "It can be seen that the group of non-bankrupt companies has higher values in all three features. Feature 4 calculates the current ratio between current asset and current liability which shows the bankruptcy potential in short term. The lower the ratio, the higher chance the the company will go bankrupt in short term. This features is not much different between two groups.\n",
    "Feature 17 is the leverage ratio showing how much capital comes in the form of debt. The lower the ratio the more debt that company keeps compared with its asset. This is a really bad sign and it is shown clearly in the plot that companies that are going to bankrupt have much lower values in this category.\n",
    "Feature 23 represents the profit margin of a company. Companies in bankrupt group does not have much value in this category."
   ]
  },
  {
   "cell_type": "markdown",
   "metadata": {},
   "source": [
    "## 4. Feature and model selection"
   ]
  },
  {
   "cell_type": "markdown",
   "metadata": {},
   "source": [
    "This dataset has a few missing values so I will need to do some preprocessing to impute the missing values with the mean of each features. This is not an ideal way but it won't affect the result much since the number of missing values is relatively small (less than 10% for each feature that has missing values)."
   ]
  },
  {
   "cell_type": "code",
   "execution_count": 9,
   "metadata": {
    "collapsed": false,
    "scrolled": true
   },
   "outputs": [
    {
     "data": {
      "text/plain": [
       "array([0, 0, 0, ..., 0, 0, 0], dtype=int64)"
      ]
     },
     "execution_count": 9,
     "metadata": {},
     "output_type": "execute_result"
    }
   ],
   "source": [
    "# Divide the dataset into traning and testing set with labels\n",
    "X = df.iloc[:,:-1].values\n",
    "y = df.iloc[:,63].values\n",
    "\n",
    "# splitting the set\n",
    "X_train, X_test, y_train, y_test = train_test_split(X,y, test_size = 0.2)\n",
    "y_test"
   ]
  },
  {
   "cell_type": "code",
   "execution_count": 10,
   "metadata": {
    "collapsed": false
   },
   "outputs": [],
   "source": [
    "#  Imputing the missing values by the mean of the columns\n",
    "imp = Imputer(missing_values='NaN', strategy='mean', axis=0)\n",
    "imp.fit(X_train)\n",
    "\n",
    "X = imp.transform(X)\n",
    "\n",
    "# Split again:\n",
    "X_train, X_test, y_train, y_test = train_test_split(X,y, test_size = 0.2)"
   ]
  },
  {
   "cell_type": "markdown",
   "metadata": {},
   "source": [
    "### 1st try out: Logistic Regression\n"
   ]
  },
  {
   "cell_type": "code",
   "execution_count": 11,
   "metadata": {
    "collapsed": true
   },
   "outputs": [],
   "source": [
    "# Setting up\n",
    "threshold = 1e-6\n",
    "\n",
    "# Logistic Regression with L1 penalty\n",
    "clf1 = LogisticRegression(penalty = 'l1')\n",
    "# Logistic Regression with L1 penalty\n",
    "clf2 = LogisticRegression(penalty = 'l2')"
   ]
  },
  {
   "cell_type": "code",
   "execution_count": 12,
   "metadata": {
    "collapsed": false,
    "scrolled": true
   },
   "outputs": [
    {
     "name": "stdout",
     "output_type": "stream",
     "text": [
      "The validation score of model 0.954307472632\n",
      "The number of selected feature of model 49\n",
      "The validation score of model 0.915278438839\n",
      "The number of selected feature of model 44\n"
     ]
    }
   ],
   "source": [
    "model_list = (clf1, clf2)\n",
    "\n",
    "for clf in model_list:\n",
    "    clf.fit(X_train, y_train)\n",
    "    feature_weight = clf.coef_\n",
    "    print(\"The validation score of model\",clf.score(X_test,y_test))\n",
    "    print(\"The number of selected feature of model\",(np.sum(abs(feature_weight) > threshold)))"
   ]
  },
  {
   "cell_type": "markdown",
   "metadata": {
    "collapsed": true
   },
   "source": [
    "Out of 64 features, the first model chooses 54 features with higher validation score ($0.95$), so we will choose this model. Now I will perform a cross validation to find the best hyperparameter 'C':"
   ]
  },
  {
   "cell_type": "code",
   "execution_count": 19,
   "metadata": {
    "collapsed": false
   },
   "outputs": [
    {
     "name": "stdout",
     "output_type": "stream",
     "text": [
      "The best parameter is {'C': 0.001}\n",
      "The best score is 0.950964056177\n"
     ]
    }
   ],
   "source": [
    "listC = 10.0**np.arange(-4,4)\n",
    "parameter = {'C':listC}\n",
    "lr = LogisticRegression(penalty = 'l1')\n",
    "clf = GridSearchCV(lr, parameter)\n",
    "\n",
    "clf.fit(X_train, y_train)\n",
    "print(\"The best parameter is\",clf.best_params_)\n",
    "print(\"The best score is\",clf.best_score_)"
   ]
  },
  {
   "cell_type": "code",
   "execution_count": 20,
   "metadata": {
    "collapsed": false
   },
   "outputs": [
    {
     "name": "stdout",
     "output_type": "stream",
     "text": [
      "Training score of Logistic Regression model is 0.951559152583\n",
      "Testing score of Logistic Regression model is 0.956211327939\n"
     ]
    }
   ],
   "source": [
    "lr = LogisticRegression(penalty = 'l1', C = 0.001)\n",
    "lr.fit(X_train, y_train)\n",
    "print(\"Training score of Logistic Regression model is\",lr.score(X_train, y_train))\n",
    "print(\"Testing score of Logistic Regression model is\",lr.score(X_test, y_test))"
   ]
  },
  {
   "cell_type": "markdown",
   "metadata": {},
   "source": [
    "### 2nd try out: Decision Tree Classifier\n",
    "\n",
    "I will combine the average 10-fold cross-validation scores on the training dataset using sklearn's cross_val_score and the Decision Tree Classifier as the model to find the best estimator for the dataset"
   ]
  },
  {
   "cell_type": "code",
   "execution_count": 21,
   "metadata": {
    "collapsed": false
   },
   "outputs": [],
   "source": [
    "maxDepth = 50\n",
    "kFold = 10\n",
    "scores = np.zeros((maxDepth, kFold))\n",
    "\n",
    "for depth in np.arange(1, maxDepth + 1):\n",
    "    clf = DecisionTreeClassifier(max_depth=depth)\n",
    "    scores[depth - 1] = cross_val_score(clf, X_train, \n",
    "                                        y_train, cv=kFold)"
   ]
  },
  {
   "cell_type": "code",
   "execution_count": 25,
   "metadata": {
    "collapsed": false
   },
   "outputs": [
    {
     "data": {
      "image/png": "[encoded data removed]",
      "text/plain": [
       "<matplotlib.figure.Figure at 0xa697695e80>"
      ]
     },
     "metadata": {},
     "output_type": "display_data"
    }
   ],
   "source": [
    "# Plot the results \n",
    "# Code from the lab1 solution\n",
    "plt.style.use('ggplot')\n",
    "plt.errorbar(range(1, maxDepth + 1), np.average(scores, axis=1), \n",
    "             color='orange', linestyle='--', marker='o', markersize=10, \n",
    "             yerr=np.std(scores, axis=1), ecolor='pink', \n",
    "             capthick=2)\n",
    "plt.xlabel(\"Maximum tree depth\", fontsize = 16)\n",
    "plt.ylabel(\"Average accuracy\", fontsize = 16)\n",
    "plt.title(\"Average accuracy on 10-Fold CV vs. Tree depth\", \n",
    "          fontsize = 20)\n",
    "plt.gcf().set_size_inches(12, 7)\n",
    "plt.tight_layout()\n",
    "plt.show()"
   ]
  },
  {
   "cell_type": "markdown",
   "metadata": {},
   "source": [
    "The cross validation accuracies are very high in general, however we can see that the accuracy decreases when the tree depth increases and is quite stable after depth 20. So if an accuracy above 95% is desired, an estimator from depth $3$ to $14$ is a reasonable choice for this data.          \n",
    "Now I will try plotting the training and testing score with vs the depth of the tree:"
   ]
  },
  {
   "cell_type": "code",
   "execution_count": 26,
   "metadata": {
    "collapsed": false
   },
   "outputs": [],
   "source": [
    "trainging_scores = np.zeros((maxDepth, 1))\n",
    "testing_scores = np.zeros((maxDepth, 1))\n",
    "\n",
    "for depth in np.arange(1, maxDepth + 1):\n",
    "    clf = DecisionTreeClassifier(max_depth=depth)\n",
    "    clf.fit(X_train, y_train)\n",
    "    trainging_scores[depth - 1] = clf.score(X_train, y_train)\n",
    "    testing_scores[depth - 1] = clf.score(X_test, y_test)"
   ]
  },
  {
   "cell_type": "code",
   "execution_count": 28,
   "metadata": {
    "collapsed": false
   },
   "outputs": [
    {
     "data": {
      "image/png": "[encoded data removed]",
      "text/plain": [
       "<matplotlib.figure.Figure at 0xa69972a320>"
      ]
     },
     "metadata": {},
     "output_type": "display_data"
    }
   ],
   "source": [
    "# Plot the results\n",
    "plt.style.use('ggplot')\n",
    "plt.plot(range(1, maxDepth + 1), trainging_scores, 'o--', \n",
    "         markersize=10, color='orange', lw=1, label='Training accuracy')\n",
    "plt.plot(range(1, maxDepth + 1), testing_scores, 'o--',\n",
    "         markersize=10, color='red', lw=1, label='Testing accuracy')\n",
    "plt.xlabel(\"Maximum tree depth\", fontsize = 16)\n",
    "plt.ylabel(\"Average accuracy\", fontsize = 16)\n",
    "plt.title(\"Training and Testing accuracy vs. Tree depth\", \n",
    "          fontsize = 20)\n",
    "plt.legend(loc=\"best\")\n",
    "plt.gcf().set_size_inches(12, 8)\n",
    "plt.tight_layout()\n",
    "plt.show()"
   ]
  },
  {
   "cell_type": "markdown",
   "metadata": {},
   "source": [
    "This is a much more interesting graph. It can be seen that after depth $20$, the model is definitely overfitting. However, the accuracies are relatively high for both training and testing accuracy from the very beginning, so depth from $1$ to $15$ is advisable. Now I will create the model with the parameter chosen from the test above."
   ]
  },
  {
   "cell_type": "code",
   "execution_count": 29,
   "metadata": {
    "collapsed": false,
    "scrolled": false
   },
   "outputs": [
    {
     "name": "stdout",
     "output_type": "stream",
     "text": [
      "Training score of Decision Tree Classifier is 0.964175196382\n",
      "Testing score of Decision Tree Classifier is 0.965730604474\n"
     ]
    }
   ],
   "source": [
    "clf = DecisionTreeClassifier(max_depth=3)\n",
    "clf.fit(X_train, y_train)\n",
    "print(\"Training score of Decision Tree Classifier is\",clf.score(X_train, y_train))\n",
    "print(\"Testing score of Decision Tree Classifier is\",clf.score(X_test, y_test))"
   ]
  },
  {
   "cell_type": "markdown",
   "metadata": {},
   "source": [
    "### Last try out: A simple ordinary least squares model.\n",
    "\n",
    "This model will help me see which features is more significant in the dataset by the p-value."
   ]
  },
  {
   "cell_type": "code",
   "execution_count": 30,
   "metadata": {
    "collapsed": false
   },
   "outputs": [
    {
     "name": "stderr",
     "output_type": "stream",
     "text": [
      "C:\\Program Files\\Anaconda3\\lib\\site-packages\\statsmodels\\compat\\pandas.py:56: FutureWarning: The pandas.core.datetools module is deprecated and will be removed in a future version. Please use the pandas.tseries module instead.\n",
      "  from pandas.core import datetools\n"
     ]
    },
    {
     "name": "stdout",
     "output_type": "stream",
     "text": [
      "                            OLS Regression Results                            \n",
      "==============================================================================\n",
      "Dep. Variable:                      y   R-squared:                       0.070\n",
      "Model:                            OLS   Adj. R-squared:                  0.064\n",
      "Method:                 Least Squares   F-statistic:                     10.35\n",
      "Date:                Sat, 27 Jan 2018   Prob (F-statistic):           9.75e-92\n",
      "Time:                        23:38:13   Log-Likelihood:                 1134.0\n",
      "No. Observations:                8402   AIC:                            -2146.\n",
      "Df Residuals:                    8341   BIC:                            -1717.\n",
      "Df Model:                          61                                         \n",
      "Covariance Type:            nonrobust                                         \n",
      "==============================================================================\n",
      "                 coef    std err          t      P>|t|      [0.025      0.975]\n",
      "------------------------------------------------------------------------------\n",
      "x1             0.0505      0.073      0.691      0.490      -0.093       0.194\n",
      "x2             0.1901      0.026      7.240      0.000       0.139       0.242\n",
      "x3             0.0008      0.009      0.085      0.933      -0.018       0.019\n",
      "x4             0.0017      0.000      3.685      0.000       0.001       0.003\n",
      "x5          4.812e-09   1.75e-08      0.275      0.784   -2.95e-08    3.91e-08\n",
      "x6             0.0116      0.004      2.877      0.004       0.004       0.020\n",
      "x7            -0.0261      0.026     -1.012      0.312      -0.077       0.024\n",
      "x8            -0.0002      0.001     -0.177      0.860      -0.002       0.002\n",
      "x9            -0.0038      0.002     -1.642      0.101      -0.008       0.001\n",
      "x10            0.1962      0.029      6.797      0.000       0.140       0.253\n",
      "x11            0.0117      0.025      0.463      0.643      -0.038       0.061\n",
      "x12        -9.299e-06      0.000     -0.030      0.976      -0.001       0.001\n",
      "x13            0.0411      0.068      0.608      0.543      -0.091       0.174\n",
      "x14           -0.0261      0.026     -1.012      0.312      -0.077       0.024\n",
      "x15         4.665e-09   1.92e-08      0.243      0.808    -3.3e-08    4.23e-08\n",
      "x16            0.0081      0.006      1.379      0.168      -0.003       0.020\n",
      "x17            0.0002      0.001      0.177      0.859      -0.002       0.002\n",
      "x18           -0.0261      0.026     -1.012      0.312      -0.077       0.024\n",
      "x19           -0.0687      0.068     -1.006      0.314      -0.202       0.065\n",
      "x20            0.0701      0.270      0.260      0.795      -0.459       0.599\n",
      "x21        -3.036e-05      0.000     -0.129      0.897      -0.000       0.000\n",
      "x22            0.0601      0.030      2.034      0.042       0.002       0.118\n",
      "x23            0.0040      0.007      0.547      0.585      -0.010       0.018\n",
      "x24           -0.0109      0.005     -2.053      0.040      -0.021      -0.000\n",
      "x25           -0.0042      0.005     -0.769      0.442      -0.015       0.007\n",
      "x26           -0.0081      0.006     -1.380      0.167      -0.020       0.003\n",
      "x27         4.251e-09   6.37e-08      0.067      0.947   -1.21e-07    1.29e-07\n",
      "x28            0.0011      0.000      2.464      0.014       0.000       0.002\n",
      "x29            0.0048      0.002      2.108      0.035       0.000       0.009\n",
      "x30            0.0004      0.000      1.188      0.235      -0.000       0.001\n",
      "x31            0.0230      0.007      3.219      0.001       0.009       0.037\n",
      "x32         1.258e-08   7.43e-08      0.169      0.865   -1.33e-07    1.58e-07\n",
      "x33            0.0009      0.000      2.964      0.003       0.000       0.001\n",
      "x34            0.0003   8.63e-05      2.938      0.003    8.44e-05       0.000\n",
      "x35           -0.0968      0.020     -4.789      0.000      -0.136      -0.057\n",
      "x36            0.0021      0.002      0.937      0.349      -0.002       0.006\n",
      "x37           -0.1629      0.026     -6.210      0.000      -0.214      -0.111\n",
      "x38            0.0012      0.002      0.540      0.589      -0.003       0.006\n",
      "x39         3.778e-05      0.000      0.262      0.793      -0.000       0.000\n",
      "x40        -1.944e-07   7.35e-07     -0.264      0.791   -1.64e-06    1.25e-06\n",
      "x41           -0.0494      0.068     -0.722      0.470      -0.184       0.085\n",
      "x42           -0.0701      0.270     -0.260      0.795      -0.599       0.459\n",
      "x43            0.0701      0.270      0.260      0.795      -0.459       0.599\n",
      "x44         6.273e-07   2.46e-06      0.255      0.799    -4.2e-06    5.45e-06\n",
      "x45           -0.0017      0.000     -3.952      0.000      -0.003      -0.001\n",
      "x46        -2.866e-08    3.9e-07     -0.074      0.941   -7.93e-07    7.36e-07\n",
      "x47            0.0191      0.010      1.879      0.060      -0.001       0.039\n",
      "x48            0.0483      0.068      0.708      0.479      -0.085       0.182\n",
      "x49        -2.928e-05      0.000     -0.245      0.806      -0.000       0.000\n",
      "x50           -0.1454      0.026     -5.538      0.000      -0.197      -0.094\n",
      "x51        -5.347e-07   1.22e-05     -0.044      0.965   -2.44e-05    2.33e-05\n",
      "x52            0.0001      0.000      0.994      0.320   -9.87e-05       0.000\n",
      "x53           -0.0012      0.000     -2.627      0.009      -0.002      -0.000\n",
      "x54        -5.978e-08   3.67e-08     -1.628      0.104   -1.32e-07    1.22e-08\n",
      "x55           -0.0011      0.001     -1.496      0.135      -0.003       0.000\n",
      "x56           -0.0004      0.000     -1.355      0.176      -0.001       0.000\n",
      "x57        -5.657e-06   1.17e-05     -0.482      0.630   -2.86e-05    1.73e-05\n",
      "x58        -7.556e-05      6e-05     -1.259      0.208      -0.000     4.2e-05\n",
      "x59         -2.79e-08   8.53e-08     -0.327      0.744   -1.95e-07    1.39e-07\n",
      "x60         2.138e-07   2.57e-05      0.008      0.993   -5.01e-05    5.05e-05\n",
      "x61        -3.027e-06   1.15e-06     -2.633      0.008   -5.28e-06   -7.73e-07\n",
      "x62           -0.0013      0.000     -4.095      0.000      -0.002      -0.001\n",
      "x63         5.576e-06    8.7e-06      0.641      0.521   -1.15e-05    2.26e-05\n",
      "==============================================================================\n",
      "Omnibus:                     6909.420   Durbin-Watson:                   2.028\n",
      "Prob(Omnibus):                  0.000   Jarque-Bera (JB):           108459.270\n",
      "Skew:                           4.140   Prob(JB):                         0.00\n",
      "Kurtosis:                      18.533   Cond. No.                     1.45e+16\n",
      "==============================================================================\n",
      "\n",
      "Warnings:\n",
      "[1] Standard Errors assume that the covariance matrix of the errors is correctly specified.\n",
      "[2] The smallest eigenvalue is 6.94e-19. This might indicate that there are\n",
      "strong multicollinearity problems or that the design matrix is singular.\n"
     ]
    }
   ],
   "source": [
    "import statsmodels.api as sm\n",
    "lm = sm.OLS(y_train,X_train).fit()\n",
    "print(lm.summary())"
   ]
  },
  {
   "cell_type": "markdown",
   "metadata": {},
   "source": [
    "There are two noticable things: First one is that there are many features that has p-value larger than $10$%. The second things is that the warning message saying there might be a strong multicollinearity problems. This is understandable because some ratios in the financial statement are normally correlated. This could be done from the beginning to select the features that are more related and important. "
   ]
  }
 ],
 "metadata": {
  "anaconda-cloud": {},
  "kernelspec": {
   "display_name": "Python [default]",
   "language": "python",
   "name": "python3"
  },
  "language_info": {
   "codemirror_mode": {
    "name": "ipython",
    "version": 3
   },
   "file_extension": ".py",
   "mimetype": "text/x-python",
   "name": "python",
   "nbconvert_exporter": "python",
   "pygments_lexer": "ipython3",
   "version": "3.5.4"
  }
 },
 "nbformat": 4,
 "nbformat_minor": 2
}
